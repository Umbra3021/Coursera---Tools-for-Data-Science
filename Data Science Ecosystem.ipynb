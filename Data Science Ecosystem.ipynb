{
 "cells": [
  {
   "cell_type": "markdown",
   "id": "0631a40e",
   "metadata": {},
   "source": [
    "# Data Science Tools and Ecosystem"
   ]
  },
  {
   "cell_type": "markdown",
   "id": "bcbdc85b",
   "metadata": {},
   "source": [
    "### In this notebook, Data Science Tools and Ecosystem are summarized.\n"
   ]
  },
  {
   "cell_type": "markdown",
   "id": "f486c234",
   "metadata": {},
   "source": [
    "### Some of the popular languages that Data Scientists use are:\n",
    "        1.Python\n",
    "        2.R\n",
    "        3.SQL\n",
    "        4.C++\n",
    "        5.Java "
   ]
  },
  {
   "cell_type": "markdown",
   "id": "1d0862fc",
   "metadata": {},
   "source": [
    "### Some of the commonly used libraries used by Data Scientists include:\n",
    "    1.TensorFlow\n",
    "    2.Numpy\n",
    "    3.Scipy\n",
    "    4.Pandas\n",
    "    5.Matplotlib\n",
    "    6.Keras\n",
    "    7.Scikit-Learn\n",
    "    8.Pytorch,etc."
   ]
  },
  {
   "cell_type": "markdown",
   "id": "6c7054ba",
   "metadata": {},
   "source": [
    "|Data Science Tools|\n",
    "|---|\n",
    "|SAS|\n",
    "|Apache Hadoop|\n",
    "|Tensorflow|\n",
    "\n"
   ]
  },
  {
   "cell_type": "markdown",
   "id": "fb21a0d3",
   "metadata": {},
   "source": [
    "### Below are a few examples of evaluating arithmetic expressions in Python"
   ]
  },
  {
   "cell_type": "code",
   "execution_count": 1,
   "id": "7e764af5",
   "metadata": {},
   "outputs": [
    {
     "data": {
      "text/plain": [
       "17"
      ]
     },
     "execution_count": 1,
     "metadata": {},
     "output_type": "execute_result"
    }
   ],
   "source": [
    "(3*4)+5"
   ]
  },
  {
   "cell_type": "code",
   "execution_count": 2,
   "id": "0283f871",
   "metadata": {},
   "outputs": [
    {
     "name": "stdout",
     "output_type": "stream",
     "text": [
      "3.3333333333333335\n"
     ]
    }
   ],
   "source": [
    "x = 200/60\n",
    "print(x)"
   ]
  },
  {
   "cell_type": "markdown",
   "id": "17d3bf93",
   "metadata": {},
   "source": [
    "__Objective__\n",
    "\n",
    "* How to operate JupyterLabs\n",
    "* How to use markdown\n",
    "* How to use comments\n",
    "* Popular librabries for Data Science\n",
    "* Popular tools for Data Science\n"
   ]
  },
  {
   "cell_type": "markdown",
   "id": "831da901",
   "metadata": {},
   "source": [
    "### Author\n",
    "Abhishek Sengupta"
   ]
  },
  {
   "cell_type": "code",
   "execution_count": null,
   "id": "35f0a0af",
   "metadata": {},
   "outputs": [],
   "source": []
  },
  {
   "cell_type": "code",
   "execution_count": null,
   "id": "fb66a8b7",
   "metadata": {},
   "outputs": [],
   "source": []
  },
  {
   "cell_type": "code",
   "execution_count": null,
   "id": "5fc21dd3",
   "metadata": {},
   "outputs": [],
   "source": []
  }
 ],
 "metadata": {
  "kernelspec": {
   "display_name": "Python 3 (ipykernel)",
   "language": "python",
   "name": "python3"
  },
  "language_info": {
   "codemirror_mode": {
    "name": "ipython",
    "version": 3
   },
   "file_extension": ".py",
   "mimetype": "text/x-python",
   "name": "python",
   "nbconvert_exporter": "python",
   "pygments_lexer": "ipython3",
   "version": "3.10.9"
  }
 },
 "nbformat": 4,
 "nbformat_minor": 5
}
